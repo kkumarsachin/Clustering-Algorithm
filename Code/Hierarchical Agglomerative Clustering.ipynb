{
 "cells": [
  {
   "cell_type": "markdown",
   "metadata": {},
   "source": [
    "## Import the necessary libraries"
   ]
  },
  {
   "cell_type": "code",
   "execution_count": 1,
   "metadata": {},
   "outputs": [],
   "source": [
    "import numpy as np\n",
    "from sklearn.decomposition import PCA\n",
    "from scipy.spatial import distance\n",
    "import pandas as pd\n",
    "import seaborn as sns\n",
    "import matplotlib.pyplot as plt\n"
   ]
  },
  {
   "cell_type": "markdown",
   "metadata": {},
   "source": [
    "## Hierarchical Cluster and Distance matric function"
   ]
  },
  {
   "cell_type": "code",
   "execution_count": 2,
   "metadata": {},
   "outputs": [],
   "source": [
    "def hac(k, matrix, gen_id):\n",
    "    clusters = gen_id\n",
    "    while(len(clusters) != k):\n",
    "    ## Calculating the minimum value and its index \n",
    "        minimum = float('inf')\n",
    "        rows,columns = matrix.shape\n",
    "        for i in range(0, rows):\n",
    "            for j in range(0, columns):\n",
    "                if(i != j):\n",
    "                    if(matrix[i][j] < minimum):\n",
    "                        minimum = matrix[i][j]\n",
    "                        m,n = min(i,j),max(i,j)\n",
    "                        \n",
    "    ### Updating the distance matrix with the clusters\n",
    "\n",
    "        clusters[m] = str(clusters[m]) +':'+ str(clusters[n])\n",
    "        \n",
    "        for i in range(0, len(matrix)):\n",
    "            matrix[m][i] = matrix[i][m] =  min(matrix[m][i], matrix[n][i])\n",
    "            \n",
    "        matrix = np.delete(matrix, n, 0)\n",
    "        matrix = np.delete(matrix, n, 1)\n",
    "        del clusters[n]\n",
    "    return clusters"
   ]
  },
  {
   "cell_type": "markdown",
   "metadata": {},
   "source": [
    "## Calculate the Jaccard and Rand Index"
   ]
  },
  {
   "cell_type": "code",
   "execution_count": 3,
   "metadata": {},
   "outputs": [],
   "source": [
    "def jaccard_rand(predicted, ground):\n",
    "    length = len(predicted) \n",
    "    predicted_matrix = np.zeros((length, length))\n",
    "    ground_matrix = np.zeros((length, length))\n",
    "    \n",
    "    ## Ground truth and Predicted matrix\n",
    "    for i in range(length):\n",
    "        for j in range(length):\n",
    "            if predicted[i]==predicted[j]:\n",
    "                predicted_matrix[i][j]=1\n",
    "            if ground[i]==ground[j]:\n",
    "                ground_matrix[i][j] = 1\n",
    "                \n",
    "    ## Calculating the agree and disagree value for jaccard and rand\n",
    "            \n",
    "    m00,m01,m10,m11 = 0,0,0,0\n",
    "    for i in range(length):\n",
    "        for j in range(length):\n",
    "            if predicted_matrix[i][j]+ground_matrix[i][j]==2:\n",
    "                m11 +=1\n",
    "            elif predicted_matrix[i][j]+ground_matrix[i][j]==0:\n",
    "                m00 +=1\n",
    "            elif predicted_matrix[i][j]==0 and ground_matrix[i][j]==1:\n",
    "                m01 +=1\n",
    "            elif predicted_matrix[i][j]==1 and ground_matrix[i][j]==0:\n",
    "                m10 +=1\n",
    "                \n",
    "    ## Calculating jaccard and rand index\n",
    "    jaccard = float(m11)/(m11 + m10 + m01)\n",
    "    rand = float(m11 + m00) / (m11 + m10 + m01 + m00)\n",
    "\n",
    "    return jaccard, rand\n",
    "\n",
    "    "
   ]
  },
  {
   "cell_type": "markdown",
   "metadata": {},
   "source": [
    "## Plot the Principal components"
   ]
  },
  {
   "cell_type": "code",
   "execution_count": 4,
   "metadata": {},
   "outputs": [],
   "source": [
    "def plot_pca(predicted_clusters,X):\n",
    "    pca = PCA(n_components=2)\n",
    "    pca.fit(X)\n",
    "    x_pca = pca.transform(X)\n",
    "    pca_x = pd.DataFrame(x_pca,columns=['pc_1','pc_2'])\n",
    "    pca_x['clusters'] = predicted_clusters\n",
    "    sns.set_style('darkgrid')\n",
    "    sns.lmplot(x = 'pc_1',y='pc_2',data = pca_x,hue='clusters',fit_reg=False,size=7,aspect=1)\n",
    "    plt.title('Heirarchical Agglomerative Clustering')\n",
    "    plt.show()\n",
    "    "
   ]
  },
  {
   "cell_type": "markdown",
   "metadata": {},
   "source": [
    "## Input Code"
   ]
  },
  {
   "cell_type": "code",
   "execution_count": 5,
   "metadata": {},
   "outputs": [
    {
     "name": "stdout",
     "output_type": "stream",
     "text": [
      "The clusters formed are as below\n",
      "[['1', '2', '3'], ['4', '5', '6']]\n",
      "\n",
      "\n",
      "Jaccard value :1.0\n",
      "Rand Index value :1.0\n"
     ]
    },
    {
     "data": {
      "image/png": "[encoded data removed]",
      "text/plain": [
       "<Figure size 546.875x504 with 1 Axes>"
      ]
     },
     "metadata": {},
     "output_type": "display_data"
    }
   ],
   "source": [
    "\n",
    "## Read the data define the values\n",
    "k_value = 2\n",
    "data = pd.read_csv('new_dataset_2.txt', sep='\\t', header=None)\n",
    "gene = list(data[0].values)\n",
    "ground_truth = list(data[1].values)\n",
    "X = data.drop([0,1],axis=1).values\n",
    "\n",
    "## Calculating the distance matrix using Euclideand distance\n",
    "r = X.shape[0]\n",
    "distance_matrix = np.zeros((r, r), dtype='float64')\n",
    "for i in range(r):\n",
    "    for j in range(r):\n",
    "        if i!=j:\n",
    "            distance_matrix[i][j] = distance.euclidean(X[i],X[j])\n",
    "\n",
    "## Finding the Clusters using HAC\n",
    "clusters = np.array(hac( k_value, distance_matrix, gene))\n",
    "predicted_clusters = list(range(r))\n",
    "cluster_split = []\n",
    "for index in clusters:\n",
    "    cluster_split.append(index.split(':'))\n",
    "print('The clusters formed are as below')\n",
    "print(cluster_split)\n",
    "\n",
    "### Assinging the clusters to the indivial rows\n",
    "for i in range(len(cluster_split)):\n",
    "    for v in cluster_split[i]:\n",
    "        predicted_clusters[int(v)-1] = i+1\n",
    "        \n",
    "## Calculating Jaccard and Rand Index      \n",
    "jaccard , rand = jaccard_rand(predicted_clusters,ground_truth)\n",
    "print('\\n')\n",
    "print('Jaccard value :'+ str(jaccard))\n",
    "print('Rand Index value :'+ str(rand))\n",
    "\n",
    "## Plotting the Principal components\n",
    "plot_pca(predicted_clusters,X)\n",
    "\n",
    "\n",
    "\n",
    "\n",
    "\n",
    "                \n"
   ]
  },
  {
   "cell_type": "code",
   "execution_count": null,
   "metadata": {},
   "outputs": [],
   "source": []
  }
 ],
 "metadata": {
  "kernelspec": {
   "display_name": "Python 3",
   "language": "python",
   "name": "python3"
  },
  "language_info": {
   "codemirror_mode": {
    "name": "ipython",
    "version": 3
   },
   "file_extension": ".py",
   "mimetype": "text/x-python",
   "name": "python",
   "nbconvert_exporter": "python",
   "pygments_lexer": "ipython3",
   "version": "3.6.5"
  }
 },
 "nbformat": 4,
 "nbformat_minor": 2
}
