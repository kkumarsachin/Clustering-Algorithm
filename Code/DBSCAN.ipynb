{
 "cells": [
  {
   "cell_type": "markdown",
   "metadata": {},
   "source": [
    "## Import the necessary libraries"
   ]
  },
  {
   "cell_type": "code",
   "execution_count": 1,
   "metadata": {},
   "outputs": [],
   "source": [
    "import numpy as np\n",
    "from sklearn.decomposition import PCA\n",
    "from scipy.spatial import distance\n",
    "import pandas as pd\n",
    "import seaborn as sns\n",
    "import matplotlib.pyplot as plt\n",
    "from collections import defaultdict"
   ]
  },
  {
   "cell_type": "markdown",
   "metadata": {},
   "source": [
    "## DBSCAN Algorithm"
   ]
  },
  {
   "cell_type": "code",
   "execution_count": 2,
   "metadata": {},
   "outputs": [],
   "source": [
    "def DBSCAN(D, eps, MinPts):\n",
    "    C = 0 \n",
    "    clusters_id = np.zeros(D.shape[0])\n",
    "    \n",
    "    for i in range(D.shape[0]):\n",
    "        \n",
    "        if clusters_id[i]==0:\n",
    "            NeighborPts = regionQuery(i, eps,D)\n",
    "            #print(NeighborPts)\n",
    "            \n",
    "            if len(NeighborPts)< MinPts:\n",
    "                clusters_id[i]= -1\n",
    "            else:\n",
    "                C += 1 \n",
    "                expandCluster(i, NeighborPts, C, eps, MinPts,clusters_id)\n",
    "    return clusters_id\n",
    "                \n",
    "                \n",
    "                       \n",
    "            "
   ]
  },
  {
   "cell_type": "code",
   "execution_count": 3,
   "metadata": {},
   "outputs": [],
   "source": [
    "def expandCluster(P, NeighborPts, C, eps, MinPts,clusters_id):\n",
    "    clusters_id[P] = C\n",
    "    for pts in NeighborPts:\n",
    "        \n",
    "        if clusters_id[pts]==0:\n",
    "            clusters_id[pts] = C\n",
    "            nbrpts = regionQuery(pts, eps, X)\n",
    "            if len(nbrpts)>=MinPts:\n",
    "                NeighborPts += nbrpts\n",
    "                \n",
    "        elif clusters_id[pts]==-1:\n",
    "            clusters_id[pts] = C\n",
    "        \n",
    "    "
   ]
  },
  {
   "cell_type": "code",
   "execution_count": 4,
   "metadata": {},
   "outputs": [],
   "source": [
    "def regionQuery(P, eps, matrix):\n",
    "    neighbor_points = []\n",
    "    \n",
    "    for i in range(matrix.shape[0]):\n",
    "        if  distance.euclidean(matrix[i],matrix[P]) <=eps:\n",
    "            #print('Yes')\n",
    "            neighbor_points.append(i)\n",
    "    return neighbor_points\n",
    "\n",
    "            "
   ]
  },
  {
   "cell_type": "markdown",
   "metadata": {},
   "source": [
    "## Calculate the Jaccard and Rand Index"
   ]
  },
  {
   "cell_type": "code",
   "execution_count": 5,
   "metadata": {},
   "outputs": [],
   "source": [
    "def jaccard_rand(predicted, ground):\n",
    "    length = len(predicted) \n",
    "    predicted_matrix = np.zeros((length, length))\n",
    "    ground_matrix = np.zeros((length, length))\n",
    "    \n",
    "    ## Ground truth and Predicted matrix\n",
    "    for i in range(length):\n",
    "        for j in range(length):\n",
    "            if predicted[i]==predicted[j]:\n",
    "                predicted_matrix[i][j]=1\n",
    "            if ground[i]==ground[j]:\n",
    "                ground_matrix[i][j] = 1\n",
    "                \n",
    "    ## Calculating the agree and disagree value for jaccard and rand\n",
    "            \n",
    "    m00,m01,m10,m11 = 0,0,0,0\n",
    "    for i in range(length):\n",
    "        for j in range(length):\n",
    "            if predicted_matrix[i][j]+ground_matrix[i][j]==2:\n",
    "                m11 +=1\n",
    "            elif predicted_matrix[i][j]+ground_matrix[i][j]==0:\n",
    "                m00 +=1\n",
    "            elif predicted_matrix[i][j]==0 and ground_matrix[i][j]==1:\n",
    "                m01 +=1\n",
    "            elif predicted_matrix[i][j]==1 and ground_matrix[i][j]==0:\n",
    "                m10 +=1\n",
    "                \n",
    "    ## Calculating jaccard and rand index\n",
    "    jaccard = float(m11)/(m11 + m10 + m01)\n",
    "    rand = float(m11 + m00) / (m11 + m10 + m01 + m00)\n",
    "\n",
    "    return jaccard, rand\n",
    "\n",
    "    "
   ]
  },
  {
   "cell_type": "markdown",
   "metadata": {},
   "source": [
    "## Plot the Principal components"
   ]
  },
  {
   "cell_type": "code",
   "execution_count": 6,
   "metadata": {},
   "outputs": [],
   "source": [
    "def plot_pca(predicted_clusters,X):\n",
    "    pca = PCA(n_components=2)\n",
    "    pca.fit(X)\n",
    "    x_pca = pca.transform(X)\n",
    "    pca_x = pd.DataFrame(x_pca,columns=['pc_1','pc_2'])\n",
    "    pca_x['clusters'] = predicted_clusters\n",
    "    sns.set_style('darkgrid')\n",
    "    sns.lmplot(x = 'pc_1',y='pc_2',data = pca_x,hue='clusters',fit_reg=False,size=7,aspect=1)\n",
    "    plt.title('DBSCAN Clustering')\n",
    "    plt.show()\n",
    "    "
   ]
  },
  {
   "cell_type": "markdown",
   "metadata": {},
   "source": [
    "## Input Code"
   ]
  },
  {
   "cell_type": "code",
   "execution_count": 7,
   "metadata": {},
   "outputs": [
    {
     "name": "stdout",
     "output_type": "stream",
     "text": [
      "\n",
      "\n",
      "1.0 : [1, 3, 4, 5, 6, 12, 14, 15, 16, 19, 21, 26, 27, 29, 40, 43, 44, 46, 48, 50, 52, 57, 61, 63, 65, 71, 79, 83, 84, 86, 90, 92, 95, 101, 105, 108, 112, 113, 116, 118, 119, 122, 127, 129, 130, 134, 139, 142, 145, 147]\n",
      "2.0 : [2, 7, 8, 9, 10, 11, 13, 17, 18, 20, 22, 23, 24, 25, 28, 30, 31, 32, 33, 34, 35, 36, 37, 38, 39, 41, 42, 45, 47, 49, 51, 53, 54, 55, 56, 58, 59, 60, 62, 64, 66, 67, 68, 69, 70, 72, 73, 74, 75, 76, 77, 78, 80, 81, 82, 85, 87, 88, 89, 91, 93, 94, 96, 97, 98, 99, 100, 102, 103, 104, 106, 107, 109, 110, 111, 114, 115, 117, 120, 121, 123, 124, 125, 126, 128, 131, 132, 133, 135, 136, 137, 138, 140, 141, 143, 144, 146, 148, 149, 150]\n",
      "\n",
      "\n",
      "Jaccard value :0.6\n",
      "Rand Index value :0.7777777777777778\n"
     ]
    },
    {
     "data": {
      "image/png": "[encoded data removed]",
      "text/plain": [
       "<Figure size 553.875x504 with 1 Axes>"
      ]
     },
     "metadata": {},
     "output_type": "display_data"
    }
   ],
   "source": [
    "## Read the data define the values\n",
    "data = pd.read_csv('new_dataset_1.txt', sep='\\t', header=None)\n",
    "gene = list(data[0].values)\n",
    "ground_truth = np.array(list(data[1].values))\n",
    "X = data.drop([0,1],axis=1).values\n",
    "\n",
    "## input values\n",
    "epsilon = 1.1\n",
    "min_points = 3\n",
    "\n",
    "## Find the clusters using DBSCAN\n",
    "clusters = DBSCAN(X, epsilon, min_points)\n",
    "\n",
    "cluster_dict = defaultdict(list)\n",
    "for idx,value in enumerate(clusters):\n",
    "    cluster_dict[value].append(idx+1)\n",
    "print('\\n')   \n",
    "for key,value in cluster_dict.items():\n",
    "    print(str(key) +' : '+ str(value))\n",
    "    \n",
    "## Calculating Jaccard and Rand Index    \n",
    "jaccard , rand = jaccard_rand(clusters,ground_truth)\n",
    "print('\\n')\n",
    "print('Jaccard value :'+ str(jaccard))\n",
    "print('Rand Index value :'+ str(rand))\n",
    "\n",
    "## Plotting the Principal components\n",
    "plot_pca(clusters,X)\n",
    "\n",
    "    \n",
    "    \n"
   ]
  },
  {
   "cell_type": "code",
   "execution_count": null,
   "metadata": {},
   "outputs": [],
   "source": []
  }
 ],
 "metadata": {
  "kernelspec": {
   "display_name": "Python 3",
   "language": "python",
   "name": "python3"
  },
  "language_info": {
   "codemirror_mode": {
    "name": "ipython",
    "version": 3
   },
   "file_extension": ".py",
   "mimetype": "text/x-python",
   "name": "python",
   "nbconvert_exporter": "python",
   "pygments_lexer": "ipython3",
   "version": "3.6.5"
  }
 },
 "nbformat": 4,
 "nbformat_minor": 2
}
