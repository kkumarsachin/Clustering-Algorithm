{
 "cells": [
  {
   "cell_type": "markdown",
   "metadata": {},
   "source": [
    "## Import the necessary libraries"
   ]
  },
  {
   "cell_type": "code",
   "execution_count": 1,
   "metadata": {},
   "outputs": [],
   "source": [
    "import numpy as np\n",
    "import pandas as pd\n",
    "from scipy.spatial import distance\n",
    "import seaborn as sns\n",
    "import matplotlib.pyplot as plt\n",
    "from sklearn.decomposition import PCA\n"
   ]
  },
  {
   "cell_type": "markdown",
   "metadata": {},
   "source": [
    "## Calculate the Jaccard and Rand Index Functions"
   ]
  },
  {
   "cell_type": "code",
   "execution_count": 2,
   "metadata": {},
   "outputs": [],
   "source": [
    "def jaccard_rand(predicted, ground):\n",
    "    length = len(predicted) \n",
    "    predicted_matrix = np.zeros((length, length))\n",
    "    ground_matrix = np.zeros((length, length))\n",
    "    \n",
    "    ## Ground truth and Predicted matrix\n",
    "    for i in range(length):\n",
    "        for j in range(length):\n",
    "            if predicted[i]==predicted[j]:\n",
    "                predicted_matrix[i][j]=1\n",
    "            if ground[i]==ground[j]:\n",
    "                ground_matrix[i][j] = 1\n",
    "                \n",
    "    ## Calculating the agree and disagree value for jaccard and rand\n",
    "            \n",
    "    m00,m01,m10,m11 = 0,0,0,0\n",
    "    for i in range(length):\n",
    "        for j in range(length):\n",
    "            if predicted_matrix[i][j]+ground_matrix[i][j]==2:\n",
    "                m11 +=1\n",
    "            elif predicted_matrix[i][j]+ground_matrix[i][j]==0:\n",
    "                m00 +=1\n",
    "            elif predicted_matrix[i][j]==0 and ground_matrix[i][j]==1:\n",
    "                m01 +=1\n",
    "            elif predicted_matrix[i][j]==1 and ground_matrix[i][j]==0:\n",
    "                m10 +=1\n",
    "                \n",
    "    ## Calculating jaccard and rand index\n",
    "    jaccard = float(m11)/(m11 + m10 + m01)\n",
    "    rand = float(m11 + m00) / (m11 + m10 + m01 + m00)\n",
    "\n",
    "    return jaccard, rand\n"
   ]
  },
  {
   "cell_type": "markdown",
   "metadata": {},
   "source": [
    "## Plot the Principal components Functions"
   ]
  },
  {
   "cell_type": "code",
   "execution_count": 3,
   "metadata": {},
   "outputs": [],
   "source": [
    "def plot_pca(predicted_clusters,X):\n",
    "    pca = PCA(n_components=2)\n",
    "    pca.fit(X)\n",
    "    x_pca = pca.transform(X)\n",
    "    pca_x = pd.DataFrame(x_pca,columns=['pc_1','pc_2'])\n",
    "    pca_x['clusters'] = predicted_clusters\n",
    "    sns.set_style('darkgrid')\n",
    "    sns.lmplot(x = 'pc_1',y='pc_2',data = pca_x,hue='clusters',fit_reg=False,size=7,aspect=1)\n",
    "    plt.title('K Means Clustering')\n",
    "    plt.show()\n",
    "    "
   ]
  },
  {
   "cell_type": "markdown",
   "metadata": {},
   "source": [
    "## Input code"
   ]
  },
  {
   "cell_type": "code",
   "execution_count": 4,
   "metadata": {},
   "outputs": [],
   "source": [
    "x = pd.read_csv('new_dataset_1.txt', sep='\\t', header=None)\n",
    "gene = list(x[0].values)\n",
    "ground_truth = list(x[1].values)\n",
    "data = x.drop([0,1],axis=1)\n",
    "Y = data.values\n",
    "data = pd.DataFrame(data)\n",
    "rows,columns = data.shape\n",
    "k = 3\n",
    "iterations = 0"
   ]
  },
  {
   "cell_type": "markdown",
   "metadata": {},
   "source": [
    "## Selecting initial Centroids "
   ]
  },
  {
   "cell_type": "code",
   "execution_count": 5,
   "metadata": {},
   "outputs": [
    {
     "name": "stdout",
     "output_type": "stream",
     "text": [
      "[3, 5, 9]\n"
     ]
    }
   ],
   "source": [
    "np.random.seed(101)\n",
    "#cents = sorted(np.random.randint(0,rows,size=k))\n",
    "cents = [3,5,9]\n",
    "print(cents)\n",
    "centroid = [data.iloc[cent].values for cent in cents]\n"
   ]
  },
  {
   "cell_type": "markdown",
   "metadata": {},
   "source": [
    "## Cluster assignments"
   ]
  },
  {
   "cell_type": "code",
   "execution_count": 6,
   "metadata": {},
   "outputs": [
    {
     "name": "stderr",
     "output_type": "stream",
     "text": [
      "C:\\Users\\sachin\\Anaconda3\\lib\\site-packages\\ipykernel_launcher.py:5: FutureWarning: 'argmin' is deprecated, use 'idxmin' instead. The behavior of 'argmin'\n",
      "will be corrected to return the positional minimum in the future.\n",
      "Use 'series.values.argmin' to get the position of the minimum now.\n",
      "  \"\"\"\n"
     ]
    }
   ],
   "source": [
    "\n",
    "for i in range(len(centroid)):\n",
    "    data['cent'+str(i+1)] = data.iloc[:,:columns].apply(lambda x:distance.euclidean(x.values,centroid[i]),axis=1)\n",
    "\n",
    "data['cluster'] = data.iloc[:,columns:(columns+k)].apply(lambda x : int(x.argmin()[4:]),axis = 1)"
   ]
  },
  {
   "cell_type": "markdown",
   "metadata": {},
   "source": [
    "## K means Algorithm"
   ]
  },
  {
   "cell_type": "code",
   "execution_count": 7,
   "metadata": {},
   "outputs": [
    {
     "name": "stderr",
     "output_type": "stream",
     "text": [
      "C:\\Users\\sachin\\Anaconda3\\lib\\site-packages\\ipykernel_launcher.py:13: FutureWarning: 'argmin' is deprecated, use 'idxmin' instead. The behavior of 'argmin'\n",
      "will be corrected to return the positional minimum in the future.\n",
      "Use 'series.values.argmin' to get the position of the minimum now.\n",
      "  del sys.path[0]\n"
     ]
    }
   ],
   "source": [
    "\n",
    "while True:\n",
    "    new_centroids = []\n",
    "    for i in range(k):\n",
    "        #print(len(data[data['cluster']==i+1]))\n",
    "        if len(data[data['cluster']==i+1]) == 0:\n",
    "            new_centroids.append(centroid[i])\n",
    "        else:\n",
    "            new_centroids.append(data[data['cluster']==i+1].iloc[:,:columns].mean(axis=0).values)\n",
    "\n",
    "    for i in range(len(centroid)):\n",
    "        data['cent'+str(i+1)] = data.iloc[:,:columns].apply(lambda x:distance.euclidean(x.values,new_centroids[i]),axis=1)\n",
    "    new_cluster = data.iloc[:,columns:(columns+k)].apply(lambda x : int(x.argmin()[4:]),axis = 1).values\n",
    "    check_value = sum(data['cluster'].values == new_cluster)\n",
    "    y_pre1 = (data['cluster'].values)\n",
    "    iterations +=1\n",
    "    if check_value != rows and iterations < 10:\n",
    "            data['cluster'] = new_cluster\n",
    "    else:\n",
    "        break"
   ]
  },
  {
   "cell_type": "markdown",
   "metadata": {},
   "source": [
    "## Calculating Jaccard coefficient"
   ]
  },
  {
   "cell_type": "code",
   "execution_count": 8,
   "metadata": {},
   "outputs": [
    {
     "name": "stdout",
     "output_type": "stream",
     "text": [
      "\n",
      "\n",
      "Jaccard value :0.4838499184339315\n",
      "Rand Index value :0.7187555555555556\n"
     ]
    }
   ],
   "source": [
    "## Calculating Jaccard and Rand Index \n",
    "predicted_clusters = list(data['cluster'].values)\n",
    "jaccard , rand = jaccard_rand(predicted_clusters,ground_truth)\n",
    "print('\\n')\n",
    "print('Jaccard value :'+ str(jaccard))\n",
    "print('Rand Index value :'+ str(rand))"
   ]
  },
  {
   "cell_type": "markdown",
   "metadata": {},
   "source": [
    "## Plotting using pca"
   ]
  },
  {
   "cell_type": "code",
   "execution_count": 9,
   "metadata": {},
   "outputs": [
    {
     "data": {
      "image/png": "[encoded data removed]",
      "text/plain": [
       "<Figure size 546.875x504 with 1 Axes>"
      ]
     },
     "metadata": {},
     "output_type": "display_data"
    }
   ],
   "source": [
    "## Plotting the Principal components\n",
    "plot_pca(predicted_clusters,Y)\n"
   ]
  },
  {
   "cell_type": "code",
   "execution_count": null,
   "metadata": {},
   "outputs": [],
   "source": []
  }
 ],
 "metadata": {
  "kernelspec": {
   "display_name": "Python 3",
   "language": "python",
   "name": "python3"
  },
  "language_info": {
   "codemirror_mode": {
    "name": "ipython",
    "version": 3
   },
   "file_extension": ".py",
   "mimetype": "text/x-python",
   "name": "python",
   "nbconvert_exporter": "python",
   "pygments_lexer": "ipython3",
   "version": "3.6.5"
  }
 },
 "nbformat": 4,
 "nbformat_minor": 2
}
